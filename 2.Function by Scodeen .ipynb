{
 "cells": [
  {
   "cell_type": "code",
   "execution_count": 2,
   "id": "6989b3f4",
   "metadata": {},
   "outputs": [
    {
     "ename": "SyntaxError",
     "evalue": "invalid syntax (4055841042.py, line 1)",
     "output_type": "error",
     "traceback": [
      "\u001b[1;36m  Input \u001b[1;32mIn [2]\u001b[1;36m\u001b[0m\n\u001b[1;33m    ***TYPES OF FUNCTION***\u001b[0m\n\u001b[1;37m    ^\u001b[0m\n\u001b[1;31mSyntaxError\u001b[0m\u001b[1;31m:\u001b[0m invalid syntax\n"
     ]
    }
   ],
   "source": [
    "***TYPES OF FUNCTION***\n",
    "\n",
    "\n",
    "\n",
    "No arguments and No return values\n",
    "With arguments and No return values\n",
    "With arguments and with return values --> imp\n",
    "No arguments and with return values\n"
   ]
  },
  {
   "cell_type": "markdown",
   "id": "23fb553a",
   "metadata": {},
   "source": [
    " ### No arguments and No return values"
   ]
  },
  {
   "cell_type": "code",
   "execution_count": null,
   "id": "e31a5895",
   "metadata": {},
   "outputs": [],
   "source": [
    "def file():\n",
    "    rushi = input(\"Enter the file name\")\n",
    "    if rushi.endswith(\".pdf\"):\n",
    "        print(\"file is available\")\n",
    "    else:\n",
    "        print(\"file is not available\")"
   ]
  },
  {
   "cell_type": "code",
   "execution_count": 3,
   "id": "82e35e22",
   "metadata": {},
   "outputs": [
    {
     "name": "stdout",
     "output_type": "stream",
     "text": [
      "Enter the file namerajii.pdf\n",
      "file is available\n"
     ]
    }
   ],
   "source": [
    "file()"
   ]
  },
  {
   "cell_type": "code",
   "execution_count": 4,
   "id": "0f8abb26",
   "metadata": {},
   "outputs": [],
   "source": [
    "def addition():\n",
    "    a = int(input(\"Enter the number\"))\n",
    "    b = int(input(\"Enter the number\"))\n",
    "    if a>b:\n",
    "        print(\"positive value\")\n",
    "    else:\n",
    "        print(\"negative value\")\n",
    "    "
   ]
  },
  {
   "cell_type": "code",
   "execution_count": 7,
   "id": "eaf3c214",
   "metadata": {},
   "outputs": [
    {
     "name": "stdout",
     "output_type": "stream",
     "text": [
      "Enter the number35\n",
      "Enter the number45\n",
      "negative value\n"
     ]
    }
   ],
   "source": [
    "addition()"
   ]
  },
  {
   "cell_type": "markdown",
   "id": "5e771d35",
   "metadata": {},
   "source": [
    "### With arguments and No return values"
   ]
  },
  {
   "cell_type": "code",
   "execution_count": 6,
   "id": "f0d333b7",
   "metadata": {},
   "outputs": [],
   "source": [
    "def file(filename):\n",
    "    \n",
    "    \n",
    "    if filename.endswith(\"pdf\"):\n",
    "        print(\"valid file\")  \n",
    "    else:\n",
    "        print(\"invalid file\")"
   ]
  },
  {
   "cell_type": "code",
   "execution_count": 5,
   "id": "90d21322",
   "metadata": {},
   "outputs": [
    {
     "name": "stdout",
     "output_type": "stream",
     "text": [
      "enter the filename:pdf\n",
      "valid file\n"
     ]
    }
   ],
   "source": [
    "filename = input(\"enter the filename:\")\n",
    "file(filename)"
   ]
  },
  {
   "cell_type": "markdown",
   "id": "9c5f441a",
   "metadata": {},
   "source": [
    "###  With arguments and with return values"
   ]
  },
  {
   "cell_type": "code",
   "execution_count": 8,
   "id": "7c7367a2",
   "metadata": {},
   "outputs": [],
   "source": [
    "def test(filename):\n",
    "    if filename.endswith(\".pdf\"):\n",
    "        return \"pdf\"\n",
    "    else:\n",
    "        return \"invalid\"\n",
    "    "
   ]
  },
  {
   "cell_type": "code",
   "execution_count": 10,
   "id": "ea80c8f3",
   "metadata": {},
   "outputs": [
    {
     "name": "stdout",
     "output_type": "stream",
     "text": [
      "Enter the filename: rushi.olo\n",
      "not valid pdf file\n"
     ]
    }
   ],
   "source": [
    "filename = input(\"Enter the filename: \")\n",
    "result = test(filename)\n",
    "if result ==\"pdf\":\n",
    "    print(\"the prosseing  pdf file\")\n",
    "else:\n",
    "    print(\"not valid pdf file\")"
   ]
  },
  {
   "cell_type": "code",
   "execution_count": 4,
   "id": "6d9e06e0",
   "metadata": {},
   "outputs": [],
   "source": [
    "def test(filename):\n",
    "    \n",
    "    if filename.endswith('.pdf'):\n",
    "        return \"pdf\"\n",
    "    else:\n",
    "        return \"other\""
   ]
  },
  {
   "cell_type": "code",
   "execution_count": 5,
   "id": "554d83a4",
   "metadata": {},
   "outputs": [
    {
     "name": "stdout",
     "output_type": "stream",
     "text": [
      "Enter the filename::rajii.pdf\n",
      "processing pdf file\n"
     ]
    }
   ],
   "source": [
    "filename = input(\"Enter the filename::\")\n",
    "result = test(filename)\n",
    "if result =='pdf':\n",
    "    print(\"processing pdf file\")\n",
    "else:\n",
    "    print(\"processing other file\")"
   ]
  },
  {
   "cell_type": "code",
   "execution_count": 14,
   "id": "6dfce1da",
   "metadata": {},
   "outputs": [],
   "source": [
    "def no_check(no):\n",
    "    if no>=0: \n",
    "        return \"no is positive\"\n",
    "    else:\n",
    "        return \"no is negative\""
   ]
  },
  {
   "cell_type": "code",
   "execution_count": 20,
   "id": "317f3d3f",
   "metadata": {},
   "outputs": [
    {
     "name": "stdout",
     "output_type": "stream",
     "text": [
      "enter the number: 344\n",
      "no is positive\n"
     ]
    }
   ],
   "source": [
    "no = int(input(\"enter the number: \"))\n",
    "rajii = no_check(int(no))\n",
    "print(rajii)"
   ]
  },
  {
   "cell_type": "code",
   "execution_count": 3,
   "id": "b0cfee31",
   "metadata": {},
   "outputs": [],
   "source": [
    "def test(no):\n",
    "    for i in range(1,no+1):\n",
    "        print(i,end = \" \")"
   ]
  },
  {
   "cell_type": "code",
   "execution_count": 4,
   "id": "c8597eee",
   "metadata": {},
   "outputs": [
    {
     "name": "stdout",
     "output_type": "stream",
     "text": [
      "1 2 3 4 5 6 7 8 9 10 "
     ]
    }
   ],
   "source": [
    "test(10)"
   ]
  },
  {
   "cell_type": "markdown",
   "id": "fdbfc86b",
   "metadata": {},
   "source": [
    "### No arguments and with return values"
   ]
  },
  {
   "cell_type": "code",
   "execution_count": 34,
   "id": "8688143e",
   "metadata": {},
   "outputs": [],
   "source": [
    "def no_check():\n",
    "    no = int(input(\"Enter the number: \"))\n",
    "    if no>=0:\n",
    "        return \"no is positive\"\n",
    "    else:\n",
    "        return \" no is negative\""
   ]
  },
  {
   "cell_type": "code",
   "execution_count": 35,
   "id": "8395bc80",
   "metadata": {},
   "outputs": [
    {
     "name": "stdout",
     "output_type": "stream",
     "text": [
      "Enter the number: 400\n"
     ]
    }
   ],
   "source": [
    "r = no_check()"
   ]
  },
  {
   "cell_type": "code",
   "execution_count": 36,
   "id": "7c1525f3",
   "metadata": {},
   "outputs": [
    {
     "data": {
      "text/plain": [
       "'no is positive'"
      ]
     },
     "execution_count": 36,
     "metadata": {},
     "output_type": "execute_result"
    }
   ],
   "source": [
    "r"
   ]
  },
  {
   "cell_type": "code",
   "execution_count": 37,
   "id": "32a27b7f",
   "metadata": {},
   "outputs": [
    {
     "name": "stdout",
     "output_type": "stream",
     "text": [
      "Enter the number: -1\n"
     ]
    }
   ],
   "source": [
    "r = no_check()"
   ]
  },
  {
   "cell_type": "code",
   "execution_count": 38,
   "id": "9eebbe11",
   "metadata": {},
   "outputs": [
    {
     "data": {
      "text/plain": [
       "' no is negative'"
      ]
     },
     "execution_count": 38,
     "metadata": {},
     "output_type": "execute_result"
    }
   ],
   "source": [
    "r"
   ]
  },
  {
   "cell_type": "markdown",
   "id": "102253a4",
   "metadata": {},
   "source": [
    "### types of arguments:"
   ]
  },
  {
   "cell_type": "code",
   "execution_count": null,
   "id": "1db29df0",
   "metadata": {},
   "outputs": [],
   "source": [
    "1.positional arguments\n",
    "2.default arguments\n",
    "3.variable length arguments (*arg)\n",
    "4.keyword arguemnts()\n",
    "5.variable length keyword arguemnts(**kwargs)"
   ]
  },
  {
   "cell_type": "markdown",
   "id": "bb865677",
   "metadata": {},
   "source": [
    "### 1 .positional arguments --> position"
   ]
  },
  {
   "cell_type": "markdown",
   "id": "c571a6ea",
   "metadata": {},
   "source": [
    "###  positional arg --> seq of formal and actual should be same and no of arguments also same"
   ]
  },
  {
   "cell_type": "code",
   "execution_count": 57,
   "id": "25f7e09b",
   "metadata": {},
   "outputs": [],
   "source": [
    "def rushi(rushi_id,rushi_name,rushi_city,rushi_sal):     #formal arguments\n",
    "    \n",
    "    \n",
    "    print(\"RUSHI_ID\",rushi_id)\n",
    "    \n",
    "    \n",
    "    print(\"RUSHI_NAME\",rushi_name)\n",
    "    \n",
    "    \n",
    "    print(\"RUSHI_CITY\",rushi_city)\n",
    "    \n",
    "    \n",
    "    print(\"RUSHI_SAL\",rushi_sal)\n",
    "    \n",
    "    "
   ]
  },
  {
   "cell_type": "code",
   "execution_count": 58,
   "id": "57c8d4c8",
   "metadata": {},
   "outputs": [
    {
     "name": "stdout",
     "output_type": "stream",
     "text": [
      "RUSHI_ID 1234\n",
      "RUSHI_NAME rushi\n",
      "RUSHI_CITY pune\n",
      "RUSHI_SAL 55000\n"
     ]
    }
   ],
   "source": [
    "rushi(1234,'rushi','pune',55000)    # actual arguments"
   ]
  },
  {
   "cell_type": "code",
   "execution_count": 59,
   "id": "e2d8ad78",
   "metadata": {},
   "outputs": [],
   "source": [
    "a,b,c,d = [1,2,3,4]"
   ]
  },
  {
   "cell_type": "code",
   "execution_count": 60,
   "id": "d41e1c92",
   "metadata": {},
   "outputs": [
    {
     "data": {
      "text/plain": [
       "1"
      ]
     },
     "execution_count": 60,
     "metadata": {},
     "output_type": "execute_result"
    }
   ],
   "source": [
    "a\n"
   ]
  },
  {
   "cell_type": "code",
   "execution_count": 61,
   "id": "e658222a",
   "metadata": {},
   "outputs": [
    {
     "data": {
      "text/plain": [
       "2"
      ]
     },
     "execution_count": 61,
     "metadata": {},
     "output_type": "execute_result"
    }
   ],
   "source": [
    "b"
   ]
  },
  {
   "cell_type": "code",
   "execution_count": 62,
   "id": "f4e8f043",
   "metadata": {},
   "outputs": [
    {
     "data": {
      "text/plain": [
       "3"
      ]
     },
     "execution_count": 62,
     "metadata": {},
     "output_type": "execute_result"
    }
   ],
   "source": [
    "c"
   ]
  },
  {
   "cell_type": "code",
   "execution_count": 63,
   "id": "43213050",
   "metadata": {},
   "outputs": [
    {
     "data": {
      "text/plain": [
       "4"
      ]
     },
     "execution_count": 63,
     "metadata": {},
     "output_type": "execute_result"
    }
   ],
   "source": [
    "d"
   ]
  },
  {
   "cell_type": "markdown",
   "id": "d294ae8a",
   "metadata": {},
   "source": [
    "### 2.default arguments"
   ]
  },
  {
   "cell_type": "code",
   "execution_count": 2,
   "id": "e700d3c0",
   "metadata": {},
   "outputs": [],
   "source": [
    "def rajii(raji_id, raji_name, raji_city, raji_sal, raji_adhar=\"no adhaaar given\", raji_pan=\"no pan given\"):\n",
    "    print('RAJII_ID:',raji_id)\n",
    "    print('RAJII_NAME:',raji_name)\n",
    "    print('RAJII_CITY:',raji_city)\n",
    "    print('RAJII_SAL:',raji_sal)\n",
    "    print('RAJII_ADHAR:',raji_adhar)\n",
    "    print('RAJII_PAN:',raji_pan)\n",
    "    "
   ]
  },
  {
   "cell_type": "code",
   "execution_count": 3,
   "id": "f6289f27",
   "metadata": {},
   "outputs": [
    {
     "name": "stdout",
     "output_type": "stream",
     "text": [
      "********************\n",
      "RAJII_ID: 1234\n",
      "RAJII_NAME: rajjiii\n",
      "RAJII_CITY: 89000\n",
      "RAJII_SAL: pune\n",
      "RAJII_ADHAR: no adhaaar given\n",
      "RAJII_PAN: no pan given\n",
      "********************\n"
     ]
    }
   ],
   "source": [
    "print(\"*\"*20)\n",
    "rajii(1234,'rajjiii',89000,'pune')\n",
    "\n",
    "print(\"*\"*20)"
   ]
  },
  {
   "cell_type": "markdown",
   "id": "5294ee8e",
   "metadata": {},
   "source": [
    "### 3.variable length arguments (*arg)\n",
    "### the variable lenght argument always stored in tuple format"
   ]
  },
  {
   "cell_type": "code",
   "execution_count": 5,
   "id": "64eef6f2",
   "metadata": {},
   "outputs": [],
   "source": [
    "def test(*args):\n",
    "    print(args)\n",
    "    print(type(args))"
   ]
  },
  {
   "cell_type": "code",
   "execution_count": 6,
   "id": "01c55883",
   "metadata": {},
   "outputs": [
    {
     "name": "stdout",
     "output_type": "stream",
     "text": [
      "(100, 200, 'python', 'java', 'html', 300, 400, 500, 600)\n",
      "<class 'tuple'>\n"
     ]
    }
   ],
   "source": [
    "test(100,200,'python','java','html',300,400,500,600)"
   ]
  },
  {
   "cell_type": "code",
   "execution_count": 14,
   "id": "a064cc8b",
   "metadata": {},
   "outputs": [],
   "source": [
    "def gen_add(*args):\n",
    "    total = 0\n",
    "    for i in args:\n",
    "        total=total + i\n",
    "    print(\"The addition ::\",total)"
   ]
  },
  {
   "cell_type": "code",
   "execution_count": 15,
   "id": "e94aeae8",
   "metadata": {},
   "outputs": [
    {
     "name": "stdout",
     "output_type": "stream",
     "text": [
      "The addition :: 600\n"
     ]
    }
   ],
   "source": [
    "gen_add(100,200,300)"
   ]
  },
  {
   "cell_type": "code",
   "execution_count": 16,
   "id": "ee165a60",
   "metadata": {},
   "outputs": [],
   "source": [
    "r =[1,2,3]"
   ]
  },
  {
   "cell_type": "code",
   "execution_count": 18,
   "id": "3d53776d",
   "metadata": {},
   "outputs": [
    {
     "name": "stdout",
     "output_type": "stream",
     "text": [
      "the addition :: 6\n"
     ]
    }
   ],
   "source": [
    "temp = 0\n",
    "for i in r:\n",
    "    temp = temp + i\n",
    "print(\"the addition ::\",temp)"
   ]
  },
  {
   "cell_type": "markdown",
   "id": "2fff7b70",
   "metadata": {},
   "source": [
    "### 4.keyword arguemnts()\n",
    "### advantage no need to remember sequence\n",
    "### Keyword = value"
   ]
  },
  {
   "cell_type": "code",
   "execution_count": 19,
   "id": "189c763d",
   "metadata": {},
   "outputs": [
    {
     "name": "stdout",
     "output_type": "stream",
     "text": [
      "******************************\n"
     ]
    }
   ],
   "source": [
    "def gen_car(car_name,car_color,car_price,car_mil):\n",
    "    print(\"CAR NAME:\", car_name)\n",
    "    print(\"CAR COLOR:\", car_color )\n",
    "    print(\"CAR PRICE:\", car_price)\n",
    "    print(\"CAR MIL:\", car_mil)\n",
    "print(\"*\"*30)"
   ]
  },
  {
   "cell_type": "code",
   "execution_count": 17,
   "id": "692d9e67",
   "metadata": {},
   "outputs": [
    {
     "name": "stdout",
     "output_type": "stream",
     "text": [
      "CAR NAME bmw\n",
      "CAR COLOR red\n",
      "CAR PRICE 100000\n",
      "CAR MIL 4.0\n",
      "******************************\n"
     ]
    }
   ],
   "source": [
    "gen_car(car_name=\"bmw\",car_price=100000,car_mil=4.0,car_color=\"red\")\n",
    "print(\"*\"*30)"
   ]
  },
  {
   "cell_type": "code",
   "execution_count": 20,
   "id": "271d6d7c",
   "metadata": {},
   "outputs": [
    {
     "name": "stdout",
     "output_type": "stream",
     "text": [
      "Enter the name: bmw\n",
      "Enter the color: red\n",
      "Enter the price: 500000\n",
      "Enter the milage: 20\n",
      "CAR NAME: bmw\n",
      "CAR COLOR: red\n",
      "CAR PRICE: 500000\n",
      "CAR MIL: 20\n"
     ]
    }
   ],
   "source": [
    "name = input(\"Enter the name: \")\n",
    "color = input(\"Enter the color: \")\n",
    "price = int(input(\"Enter the price: \"))\n",
    "mil = int(input(\"Enter the milage: \"))\n",
    "gen_car(car_name=name,car_mil=mil,car_price=price,car_color=color)"
   ]
  },
  {
   "cell_type": "code",
   "execution_count": 21,
   "id": "b7093215",
   "metadata": {},
   "outputs": [
    {
     "name": "stdout",
     "output_type": "stream",
     "text": [
      "CAR NAME: maruti\n",
      "CAR COLOR: blue\n",
      "CAR PRICE: 100000\n",
      "CAR MIL: 10\n"
     ]
    }
   ],
   "source": [
    "gen_car(car_name=\"maruti\",car_price=100000,car_mil=10,car_color=\"blue\")"
   ]
  },
  {
   "cell_type": "markdown",
   "id": "ef5f8217",
   "metadata": {},
   "source": [
    "### 5.variable length keyword arguemnts(**kwargs)\n",
    "### alway stored in dict type ,key value pair\n",
    "### = assign\n",
    "### == comparision"
   ]
  },
  {
   "cell_type": "code",
   "execution_count": 26,
   "id": "5702277e",
   "metadata": {},
   "outputs": [],
   "source": [
    "def gen_lenght(**kwargs):\n",
    "    print(kwargs)"
   ]
  },
  {
   "cell_type": "code",
   "execution_count": 27,
   "id": "496afe55",
   "metadata": {},
   "outputs": [
    {
     "name": "stdout",
     "output_type": "stream",
     "text": [
      "{'name': 'rushi', 'fee': 25000, 'add': 'pune'}\n"
     ]
    }
   ],
   "source": [
    "gen_lenght(name=\"rushi\", fee=25000, add=\"pune\")"
   ]
  },
  {
   "cell_type": "code",
   "execution_count": 28,
   "id": "6786590f",
   "metadata": {},
   "outputs": [
    {
     "name": "stdout",
     "output_type": "stream",
     "text": [
      "{'name': 'rajii'}\n"
     ]
    }
   ],
   "source": [
    "gen_lenght(name=\"rajii\")"
   ]
  },
  {
   "cell_type": "code",
   "execution_count": null,
   "id": "fe1f0093",
   "metadata": {},
   "outputs": [],
   "source": []
  },
  {
   "cell_type": "code",
   "execution_count": null,
   "id": "63409c7e",
   "metadata": {},
   "outputs": [],
   "source": []
  }
 ],
 "metadata": {
  "kernelspec": {
   "display_name": "Python 3 (ipykernel)",
   "language": "python",
   "name": "python3"
  },
  "language_info": {
   "codemirror_mode": {
    "name": "ipython",
    "version": 3
   },
   "file_extension": ".py",
   "mimetype": "text/x-python",
   "name": "python",
   "nbconvert_exporter": "python",
   "pygments_lexer": "ipython3",
   "version": "3.9.12"
  }
 },
 "nbformat": 4,
 "nbformat_minor": 5
}
