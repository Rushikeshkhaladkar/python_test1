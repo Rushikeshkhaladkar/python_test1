{
 "cells": [
  {
   "cell_type": "code",
   "execution_count": null,
   "id": "4f353d16",
   "metadata": {},
   "outputs": [],
   "source": [
    "list compression -- list\n",
    "tuple compression -- it is not possible in python if we do it will create generator object -- generator\n",
    "dict compression -- dict"
   ]
  },
  {
   "cell_type": "code",
   "execution_count": null,
   "id": "36b84dbc",
   "metadata": {},
   "outputs": [],
   "source": [
    "[output for element in seq if condition/element]"
   ]
  },
  {
   "cell_type": "code",
   "execution_count": 17,
   "id": "fd72ccea",
   "metadata": {},
   "outputs": [],
   "source": [
    "email = ['asdfsd','asfdasdf@gmail.com','asdfsdfsdf','ffsadfsadf@gmail.com','asfsdfsd@gmail.com']"
   ]
  },
  {
   "cell_type": "code",
   "execution_count": 18,
   "id": "5f2c9241",
   "metadata": {},
   "outputs": [],
   "source": [
    "r = [e for e in email if e.endswith(\"@gmail.com\")]"
   ]
  },
  {
   "cell_type": "code",
   "execution_count": 19,
   "id": "0fd4e4ff",
   "metadata": {},
   "outputs": [
    {
     "data": {
      "text/plain": [
       "['asfdasdf@gmail.com', 'ffsadfsadf@gmail.com', 'asfsdfsd@gmail.com']"
      ]
     },
     "execution_count": 19,
     "metadata": {},
     "output_type": "execute_result"
    }
   ],
   "source": [
    "r"
   ]
  },
  {
   "cell_type": "code",
   "execution_count": null,
   "id": "f31e8ed8",
   "metadata": {},
   "outputs": [],
   "source": [
    "loop -- condition  --> simple if  ---> "
   ]
  },
  {
   "cell_type": "code",
   "execution_count": null,
   "id": "e36d2c4a",
   "metadata": {},
   "outputs": [],
   "source": [
    "list compression :  final list -->"
   ]
  },
  {
   "cell_type": "code",
   "execution_count": 21,
   "id": "cc323ece",
   "metadata": {},
   "outputs": [
    {
     "data": {
      "text/plain": [
       "['asdfsd',\n",
       " 'asfdasdf@gmail.com',\n",
       " 'asdfsdfsdf',\n",
       " 'ffsadfsadf@gmail.com',\n",
       " 'asfsdfsd@gmail.com']"
      ]
     },
     "execution_count": 21,
     "metadata": {},
     "output_type": "execute_result"
    }
   ],
   "source": [
    "[i for i in email]"
   ]
  },
  {
   "cell_type": "code",
   "execution_count": 22,
   "id": "f8c4d75f",
   "metadata": {},
   "outputs": [
    {
     "data": {
      "text/plain": [
       "['asdfsd',\n",
       " 'asfdasdf@gmail.com',\n",
       " 'asdfsdfsdf',\n",
       " 'ffsadfsadf@gmail.com',\n",
       " 'asfsdfsd@gmail.com']"
      ]
     },
     "execution_count": 22,
     "metadata": {},
     "output_type": "execute_result"
    }
   ],
   "source": [
    "email"
   ]
  },
  {
   "cell_type": "code",
   "execution_count": 23,
   "id": "7ab48085",
   "metadata": {},
   "outputs": [],
   "source": [
    "gen_list = ['rushi','rajii','ganesh','suyash','akshay','boby']"
   ]
  },
  {
   "cell_type": "code",
   "execution_count": 24,
   "id": "7c24806c",
   "metadata": {},
   "outputs": [],
   "source": [
    "rushi_List = [i.upper() for i in gen_list]"
   ]
  },
  {
   "cell_type": "code",
   "execution_count": 25,
   "id": "464405b5",
   "metadata": {},
   "outputs": [
    {
     "data": {
      "text/plain": [
       "['RUSHI', 'RAJII', 'GANESH', 'SUYASH', 'AKSHAY', 'BOBY']"
      ]
     },
     "execution_count": 25,
     "metadata": {},
     "output_type": "execute_result"
    }
   ],
   "source": [
    "rushi_List"
   ]
  },
  {
   "cell_type": "code",
   "execution_count": 7,
   "id": "6ca84d01",
   "metadata": {},
   "outputs": [],
   "source": [
    "gen_num = [100,2,3,4,5,6,7,8,9,0,12,23,14,56]"
   ]
  },
  {
   "cell_type": "code",
   "execution_count": 8,
   "id": "b6e852e4",
   "metadata": {},
   "outputs": [
    {
     "data": {
      "text/plain": [
       "{100: 100,\n",
       " 2: 2,\n",
       " 3: 3,\n",
       " 4: 4,\n",
       " 5: 5,\n",
       " 6: 6,\n",
       " 7: 7,\n",
       " 8: 8,\n",
       " 9: 9,\n",
       " 0: 0,\n",
       " 12: 12,\n",
       " 23: 23,\n",
       " 14: 14,\n",
       " 56: 56}"
      ]
     },
     "execution_count": 8,
     "metadata": {},
     "output_type": "execute_result"
    }
   ],
   "source": [
    "{i:i for i in gen_num}"
   ]
  },
  {
   "cell_type": "code",
   "execution_count": 10,
   "id": "5d978342",
   "metadata": {},
   "outputs": [],
   "source": [
    "p = [34,45,90]"
   ]
  },
  {
   "cell_type": "code",
   "execution_count": 13,
   "id": "046880e3",
   "metadata": {},
   "outputs": [
    {
     "data": {
      "text/plain": [
       "{34: 34, 45: 45, 90: 90}"
      ]
     },
     "execution_count": 13,
     "metadata": {},
     "output_type": "execute_result"
    }
   ],
   "source": [
    "{i:i for i in p}"
   ]
  },
  {
   "cell_type": "code",
   "execution_count": 16,
   "id": "04ca48f4",
   "metadata": {},
   "outputs": [],
   "source": [
    "str_list = ['rajii','suyashhhh','gaur','ganesh']"
   ]
  },
  {
   "cell_type": "code",
   "execution_count": 17,
   "id": "a1bc20a6",
   "metadata": {},
   "outputs": [
    {
     "data": {
      "text/plain": [
       "{5: 'rajii', 9: 'suyashhhh', 4: 'gaur', 6: 'ganesh'}"
      ]
     },
     "execution_count": 17,
     "metadata": {},
     "output_type": "execute_result"
    }
   ],
   "source": [
    "{len(i):i for i in str_list} "
   ]
  },
  {
   "cell_type": "code",
   "execution_count": null,
   "id": "03f5cdf2",
   "metadata": {},
   "outputs": [],
   "source": [
    "for --condition --> list /dict  compression\n"
   ]
  },
  {
   "cell_type": "code",
   "execution_count": 31,
   "id": "428648af",
   "metadata": {},
   "outputs": [],
   "source": [
    "p = [45,47,345,754,235,78546,235,7547,235,787,235,7546,35]"
   ]
  },
  {
   "cell_type": "code",
   "execution_count": 32,
   "id": "1db44552",
   "metadata": {},
   "outputs": [
    {
     "data": {
      "text/plain": [
       "[None, None, None]"
      ]
     },
     "execution_count": 32,
     "metadata": {},
     "output_type": "execute_result"
    }
   ],
   "source": [
    "e1 = []\n",
    "e2 = []\n",
    "[e1.append(i)  for i in p if i%2==0]"
   ]
  },
  {
   "cell_type": "code",
   "execution_count": 33,
   "id": "4e198b67",
   "metadata": {},
   "outputs": [
    {
     "data": {
      "text/plain": [
       "[754, 78546, 7546]"
      ]
     },
     "execution_count": 33,
     "metadata": {},
     "output_type": "execute_result"
    }
   ],
   "source": [
    "e1"
   ]
  },
  {
   "cell_type": "code",
   "execution_count": 21,
   "id": "8e8ad26a",
   "metadata": {},
   "outputs": [
    {
     "data": {
      "text/plain": [
       "[]"
      ]
     },
     "execution_count": 21,
     "metadata": {},
     "output_type": "execute_result"
    }
   ],
   "source": [
    "e2"
   ]
  },
  {
   "cell_type": "code",
   "execution_count": 18,
   "id": "106710a9",
   "metadata": {},
   "outputs": [
    {
     "name": "stdout",
     "output_type": "stream",
     "text": [
      "[12, 23, 45, 66, 77, 88, 54, 45, 45, 43]\n",
      "['a', 'b', 'c', 'r', 'y', 'o']\n"
     ]
    }
   ],
   "source": [
    "q1 = ['a','b','c',12,23,45,66,77,88,54,45,45,43,'r','y','o']\n",
    "# print(q1)\n",
    "int_value = []\n",
    "str_value = []\n",
    "for i in q1:\n",
    "    if type(i) == str:\n",
    "        str_value.append(i)\n",
    "    else:\n",
    "        int_value.append(i)\n",
    "print(int_value)\n",
    "print(str_value)"
   ]
  },
  {
   "cell_type": "code",
   "execution_count": 20,
   "id": "29696300",
   "metadata": {},
   "outputs": [
    {
     "name": "stdout",
     "output_type": "stream",
     "text": [
      "[23, 45, 77, 45, 45, 43]\n",
      "[]\n",
      "[12, 66, 88, 54]\n"
     ]
    }
   ],
   "source": [
    "q1 = ['a','b','c',12,23,45,66,77,88,54,45,45,43,'r','y','o']\n",
    "# print(q1)\n",
    "int_value = []\n",
    "str_value = []\n",
    "even = []\n",
    "for i in q1:\n",
    "    if type(i) == str:\n",
    "        continue\n",
    "    if i%2==0:\n",
    "        even.append(i)\n",
    "    else:\n",
    "        int_value.append(i)\n",
    "print(int_value)\n",
    "print(str_value)\n",
    "print(even)"
   ]
  },
  {
   "cell_type": "code",
   "execution_count": 21,
   "id": "4edade79",
   "metadata": {},
   "outputs": [
    {
     "data": {
      "text/plain": [
       "<generator object <genexpr> at 0x0000020799ADE9E0>"
      ]
     },
     "execution_count": 21,
     "metadata": {},
     "output_type": "execute_result"
    }
   ],
   "source": [
    "(i for i in q1)"
   ]
  },
  {
   "cell_type": "code",
   "execution_count": 22,
   "id": "47e77ff2",
   "metadata": {},
   "outputs": [
    {
     "data": {
      "text/plain": [
       "['a', 'b', 'c', 12, 23, 45, 66, 77, 88, 54, 45, 45, 43, 'r', 'y', 'o']"
      ]
     },
     "execution_count": 22,
     "metadata": {},
     "output_type": "execute_result"
    }
   ],
   "source": [
    "[i for i in q1]"
   ]
  },
  {
   "cell_type": "code",
   "execution_count": 35,
   "id": "d38e35ea",
   "metadata": {},
   "outputs": [],
   "source": [
    "rushi = [1,2,3,4,5]"
   ]
  },
  {
   "cell_type": "code",
   "execution_count": 37,
   "id": "9bfe6a1e",
   "metadata": {},
   "outputs": [],
   "source": [
    "rushi.sort( )"
   ]
  },
  {
   "cell_type": "code",
   "execution_count": null,
   "id": "e79c9e4e",
   "metadata": {},
   "outputs": [],
   "source": []
  }
 ],
 "metadata": {
  "kernelspec": {
   "display_name": "Python 3 (ipykernel)",
   "language": "python",
   "name": "python3"
  },
  "language_info": {
   "codemirror_mode": {
    "name": "ipython",
    "version": 3
   },
   "file_extension": ".py",
   "mimetype": "text/x-python",
   "name": "python",
   "nbconvert_exporter": "python",
   "pygments_lexer": "ipython3",
   "version": "3.9.12"
  }
 },
 "nbformat": 4,
 "nbformat_minor": 5
}
